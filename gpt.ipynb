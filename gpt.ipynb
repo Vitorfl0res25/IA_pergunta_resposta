{
 "cells": [
  {
   "cell_type": "code",
   "execution_count": 1,
   "metadata": {},
   "outputs": [
    {
     "name": "stdout",
     "output_type": "stream",
     "text": [
      "Defaulting to user installation because normal site-packages is not writeable\n",
      "Requirement already satisfied: transformers in c:\\users\\vitor\\appdata\\roaming\\python\\python37\\site-packages (4.30.2)\n",
      "Requirement already satisfied: SpeechRecognition in c:\\users\\vitor\\appdata\\roaming\\python\\python37\\site-packages (3.9.0)\n",
      "Requirement already satisfied: pyttsx3 in c:\\users\\vitor\\appdata\\roaming\\python\\python37\\site-packages (2.90)\n",
      "Requirement already satisfied: filelock in c:\\users\\vitor\\appdata\\roaming\\python\\python37\\site-packages (from transformers) (3.12.2)\n",
      "Requirement already satisfied: huggingface-hub<1.0,>=0.14.1 in c:\\users\\vitor\\appdata\\roaming\\python\\python37\\site-packages (from transformers) (0.16.4)\n",
      "Requirement already satisfied: numpy>=1.17 in c:\\users\\vitor\\appdata\\roaming\\python\\python37\\site-packages (from transformers) (1.21.6)\n",
      "Requirement already satisfied: packaging>=20.0 in c:\\users\\vitor\\appdata\\roaming\\python\\python37\\site-packages (from transformers) (23.2)\n",
      "Requirement already satisfied: pyyaml>=5.1 in c:\\users\\vitor\\appdata\\roaming\\python\\python37\\site-packages (from transformers) (6.0.1)\n",
      "Requirement already satisfied: regex!=2019.12.17 in c:\\users\\vitor\\appdata\\roaming\\python\\python37\\site-packages (from transformers) (2024.4.16)\n",
      "Requirement already satisfied: requests in c:\\users\\vitor\\appdata\\roaming\\python\\python37\\site-packages (from transformers) (2.31.0)\n",
      "Requirement already satisfied: tokenizers!=0.11.3,<0.14,>=0.11.1 in c:\\users\\vitor\\appdata\\roaming\\python\\python37\\site-packages (from transformers) (0.13.3)\n",
      "Requirement already satisfied: safetensors>=0.3.1 in c:\\users\\vitor\\appdata\\roaming\\python\\python37\\site-packages (from transformers) (0.4.3)\n",
      "Requirement already satisfied: tqdm>=4.27 in c:\\users\\vitor\\appdata\\roaming\\python\\python37\\site-packages (from transformers) (4.66.1)\n",
      "Requirement already satisfied: importlib-metadata in c:\\users\\vitor\\appdata\\roaming\\python\\python37\\site-packages (from transformers) (6.7.0)\n",
      "Requirement already satisfied: comtypes in c:\\users\\vitor\\appdata\\roaming\\python\\python37\\site-packages (from pyttsx3) (1.2.0)\n",
      "Requirement already satisfied: pypiwin32 in c:\\users\\vitor\\appdata\\roaming\\python\\python37\\site-packages (from pyttsx3) (223)\n",
      "Requirement already satisfied: pywin32 in c:\\users\\vitor\\appdata\\roaming\\python\\python37\\site-packages (from pyttsx3) (306)\n",
      "Requirement already satisfied: fsspec in c:\\users\\vitor\\appdata\\roaming\\python\\python37\\site-packages (from huggingface-hub<1.0,>=0.14.1->transformers) (2023.1.0)\n",
      "Requirement already satisfied: typing-extensions>=3.7.4.3 in c:\\users\\vitor\\appdata\\roaming\\python\\python37\\site-packages (from huggingface-hub<1.0,>=0.14.1->transformers) (4.7.1)\n",
      "Requirement already satisfied: charset-normalizer<4,>=2 in c:\\users\\vitor\\appdata\\roaming\\python\\python37\\site-packages (from requests->transformers) (3.3.2)\n",
      "Requirement already satisfied: idna<4,>=2.5 in c:\\users\\vitor\\appdata\\roaming\\python\\python37\\site-packages (from requests->transformers) (3.7)\n",
      "Requirement already satisfied: urllib3<3,>=1.21.1 in c:\\users\\vitor\\appdata\\roaming\\python\\python37\\site-packages (from requests->transformers) (2.0.7)\n",
      "Requirement already satisfied: certifi>=2017.4.17 in c:\\users\\vitor\\appdata\\roaming\\python\\python37\\site-packages (from requests->transformers) (2024.2.2)\n",
      "Requirement already satisfied: colorama in c:\\users\\vitor\\appdata\\roaming\\python\\python37\\site-packages (from tqdm>=4.27->transformers) (0.4.6)\n",
      "Requirement already satisfied: zipp>=0.5 in c:\\users\\vitor\\appdata\\roaming\\python\\python37\\site-packages (from importlib-metadata->transformers) (3.15.0)\n",
      "Note: you may need to restart the kernel to use updated packages.\n"
     ]
    }
   ],
   "source": [
    "pip install transformers SpeechRecognition pyttsx3 "
   ]
  },
  {
   "cell_type": "code",
   "execution_count": 2,
   "metadata": {},
   "outputs": [
    {
     "name": "stdout",
     "output_type": "stream",
     "text": [
      "Defaulting to user installation because normal site-packages is not writeable\n",
      "Requirement already satisfied: torch in c:\\users\\vitor\\appdata\\roaming\\python\\python37\\site-packages (1.13.1)\n",
      "Requirement already satisfied: torchvision in c:\\users\\vitor\\appdata\\roaming\\python\\python37\\site-packages (0.14.1)\n",
      "Requirement already satisfied: typing-extensions in c:\\users\\vitor\\appdata\\roaming\\python\\python37\\site-packages (from torch) (4.7.1)\n",
      "Requirement already satisfied: numpy in c:\\users\\vitor\\appdata\\roaming\\python\\python37\\site-packages (from torchvision) (1.21.6)\n",
      "Requirement already satisfied: requests in c:\\users\\vitor\\appdata\\roaming\\python\\python37\\site-packages (from torchvision) (2.31.0)\n",
      "Requirement already satisfied: pillow!=8.3.*,>=5.3.0 in c:\\users\\vitor\\appdata\\roaming\\python\\python37\\site-packages (from torchvision) (9.5.0)\n",
      "Requirement already satisfied: charset-normalizer<4,>=2 in c:\\users\\vitor\\appdata\\roaming\\python\\python37\\site-packages (from requests->torchvision) (3.3.2)\n",
      "Requirement already satisfied: idna<4,>=2.5 in c:\\users\\vitor\\appdata\\roaming\\python\\python37\\site-packages (from requests->torchvision) (3.7)\n",
      "Requirement already satisfied: urllib3<3,>=1.21.1 in c:\\users\\vitor\\appdata\\roaming\\python\\python37\\site-packages (from requests->torchvision) (2.0.7)\n",
      "Requirement already satisfied: certifi>=2017.4.17 in c:\\users\\vitor\\appdata\\roaming\\python\\python37\\site-packages (from requests->torchvision) (2024.2.2)\n",
      "Note: you may need to restart the kernel to use updated packages.\n"
     ]
    }
   ],
   "source": [
    "pip install torch torchvision"
   ]
  },
  {
   "cell_type": "code",
   "execution_count": 3,
   "metadata": {},
   "outputs": [
    {
     "name": "stderr",
     "output_type": "stream",
     "text": [
      "C:\\Users\\Vitor\\AppData\\Roaming\\Python\\Python37\\site-packages\\tqdm\\auto.py:21: TqdmWarning: IProgress not found. Please update jupyter and ipywidgets. See https://ipywidgets.readthedocs.io/en/stable/user_install.html\n",
      "  from .autonotebook import tqdm as notebook_tqdm\n"
     ]
    }
   ],
   "source": [
    "import speech_recognition as sr\n",
    "import pyttsx3\n",
    "import transformers\n",
    "from transformers import pipeline\n",
    "import torch"
   ]
  },
  {
   "cell_type": "code",
   "execution_count": 17,
   "metadata": {},
   "outputs": [],
   "source": [
    "recognizer = sr.Recognizer()"
   ]
  },
  {
   "cell_type": "code",
   "execution_count": 19,
   "metadata": {},
   "outputs": [],
   "source": [
    "engine = pyttsx3.init()\n",
    "voices = engine.getProperty('voices')\n",
    "engine.setProperty('voice', voices[1].id)"
   ]
  },
  {
   "cell_type": "code",
   "execution_count": 59,
   "metadata": {},
   "outputs": [
    {
     "name": "stdout",
     "output_type": "stream",
     "text": [
      "result2:\n",
      "{   'alternative': [   {   'confidence': 0.82141507,\n",
      "                           'transcript': 'como ocorre a criação de um buraco '\n",
      "                                         'negro'}],\n",
      "    'final': True}\n"
     ]
    }
   ],
   "source": [
    "def capturar_audio():\n",
    "    with sr.Microphone() as mic:\n",
    "        recognizer.adjust_for_ambient_noise(mic, duration=0.2)\n",
    "        audio = recognizer.listen(mic)\n",
    "        text = recognizer.recognize_google(audio, language='pt')\n",
    "        return text.lower()\n",
    "\n",
    "texto_reconhecido = capturar_audio()\n",
    "\n",
    "#print(f\"Texto Reconhecido: {texto_reconhecido}\")"
   ]
  },
  {
   "cell_type": "code",
   "execution_count": 21,
   "metadata": {},
   "outputs": [],
   "source": [
    "qea = pipeline(\"question-answering\", model=\"pierreguillou/bert-base-cased-squad-v1.1-portuguese\", framework=\"pt\")"
   ]
  },
  {
   "cell_type": "code",
   "execution_count": 60,
   "metadata": {},
   "outputs": [
    {
     "name": "stdout",
     "output_type": "stream",
     "text": [
      "Pergunta:  como ocorre a criação de um buraco negro\n",
      "Resposta:  colapso gravitacional de uma estrela massiva ao final de sua vida\n",
      "Score:  0.0619792640209198\n"
     ]
    }
   ],
   "source": [
    "texto = \"Buracos negros são regiões do espaço onde a gravidade é tão intensa que nada, nem mesmo a luz, pode escapar. Eles se formam quando uma quantidade suficiente de matéria é compactada em um espaço pequeno, geralmente como resultado do colapso gravitacional de uma estrela massiva ao final de sua vida. Esse processo cria uma singularidade, um ponto de densidade infinita e volume zero, onde as leis da física, como as conhecemos, deixam de se aplicar. Ao redor da singularidade existe o horizonte de eventos, a fronteira além da qual nada pode escapar da atração gravitacional do buraco negro. Tudo que passa pelo horizonte de eventos está irremediavelmente perdido para o resto do universo. Devido à sua natureza, buracos negros não podem ser observados diretamente. No entanto, eles podem ser detectados pela influência que exercem sobre a matéria e a luz ao seu redor. Por exemplo, a matéria que cai em um buraco negro pode formar um disco de acreção, aquecendo-se e emitindo radiação intensa antes de ser engolida. Existem diferentes tipos de buracos negros, classificados de acordo com sua massa. Os buracos negros estelares, formados a partir do colapso de estrelas massivas, têm massas entre 3 e 20 vezes a massa do Sol. Buracos negros supermassivos, com massas que variam de milhões a bilhões de vezes a massa solar, são encontrados nos centros de galáxias, incluindo a nossa Via Láctea. A origem exata dos buracos negros supermassivos ainda é um tópico de pesquisa ativa. Além disso, a existência de buracos negros de massa intermediária, com massas entre 100 e 1000 vezes a massa do Sol, tem sido proposta, embora menos comuns e mais difíceis de detectar. Buracos negros primordiais, hipotéticos buracos negros que teriam se formado no início do universo, também são uma área de investigação teórica. Buracos negros desempenham um papel crucial na dinâmica e evolução das galáxias. Eles podem influenciar a formação de estrelas e a distribuição de matéria no espaço. Estudos de buracos negros também oferecem uma oportunidade única para testar a teoria da relatividade geral em condições extremas, avançando nossa compreensão da física fundamental. A detecção de ondas gravitacionais, ondulações no tecido do espaço-tempo causadas por eventos cataclísmicos como a fusão de buracos negros, abriu uma nova janela para a observação do universo. As primeiras detecções dessas ondas, feitas pelo Observatório de Ondas Gravitacionais por Interferômetro Laser (LIGO) em 2015, confirmaram a existência de buracos negros binários e proporcionaram uma nova maneira de estudar essas misteriosas entidades cósmicas. Em suma, buracos negros são objetos astronômicos fascinantes que continuam a desafiar e expandir nosso entendimento do universo. Estudos contínuos e futuras descobertas prometem revelar ainda mais sobre esses misteriosos habitantes do cosmos.\"\n",
    "pergunta = texto_reconhecido\n",
    "resposta = qea(question=pergunta, context=texto)\n",
    "print(\"Pergunta: \", pergunta)\n",
    "print(\"Resposta: \", resposta['answer'])\n",
    "print(\"Score: \", resposta['score'])"
   ]
  },
  {
   "cell_type": "code",
   "execution_count": 61,
   "metadata": {},
   "outputs": [],
   "source": [
    "voices = engine.getProperty('voices')\n",
    "engine.setProperty('voice', voices[2].id)\n",
    "engine.setProperty('rate', 190)\n",
    "engine.say(resposta['answer'])\n",
    "engine.runAndWait()"
   ]
  },
  {
   "cell_type": "code",
   "execution_count": null,
   "metadata": {},
   "outputs": [],
   "source": []
  }
 ],
 "metadata": {
  "kernelspec": {
   "display_name": "Python 3",
   "language": "python",
   "name": "python3"
  },
  "language_info": {
   "codemirror_mode": {
    "name": "ipython",
    "version": 3
   },
   "file_extension": ".py",
   "mimetype": "text/x-python",
   "name": "python",
   "nbconvert_exporter": "python",
   "pygments_lexer": "ipython3",
   "version": "3.7.8"
  }
 },
 "nbformat": 4,
 "nbformat_minor": 2
}
